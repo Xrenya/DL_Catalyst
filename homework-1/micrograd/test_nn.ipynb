{
 "cells": [
  {
   "cell_type": "markdown",
   "source": [
    "# Task 1\n",
    "\n",
    "Here we will see how our nn and autograd works.\n",
    "\n",
    "Also we will review some Catalyst's abstractions, implement callbacks and datasets.\n",
    "\n",
    "Unfortunately, python is slow, and implementing dynamic computational graph in pure python for product-ready solution is not a good idea. But this task will help you to understand what's happening when you call `backward` method for variable or tensor. Also it will help you in learning Catalyst framework and will teach how you to write your code in more Catalyst-like way."
   ],
   "metadata": {
    "collapsed": false
   }
  },
  {
   "cell_type": "code",
   "execution_count": 1,
   "outputs": [
    {
     "output_type": "stream",
     "name": "stdout",
     "text": "Populating the interactive namespace from numpy and matplotlib\n"
    }
   ],
   "source": [
    "import numpy as np\n",
    "from sklearn.datasets import make_moons\n",
    "from sklearn.model_selection import train_test_split\n",
    "from nn import Linear, ReLU, CrossEntropyLoss, Module\n",
    "from optim import SGD\n",
    "from engine import Value\n",
    "from matplotlib import pyplot as plt\n",
    "import seaborn as sns\n",
    "\n",
    "sns.set(style=\"whitegrid\", font_scale=1.4)\n",
    "%pylab inline"
   ],
   "metadata": {
    "collapsed": false,
    "pycharm": {
     "name": "#%%\n"
    },
    "tags": []
   }
  },
  {
   "cell_type": "markdown",
   "source": [
    "### Defining toy dataset\n",
    "\n",
    "To be more human-readable and easy to understand, we want to store every data in key-value format.\n",
    "\n",
    "So, the dataset should yield dict, moreover we will store train/valid datasets in a dict."
   ],
   "metadata": {
    "collapsed": false
   }
  },
  {
   "cell_type": "code",
   "execution_count": 2,
   "outputs": [],
   "source": [
    "class Dataset:\n",
    "    def __init__(self, X, y):\n",
    "        self.X = X\n",
    "        self.y = y\n",
    "\n",
    "    def __getitem__(self, item):\n",
    "        return {\"features\": self.X, \"targets\": self.y}\n",
    "\n",
    "    def __len__(self):\n",
    "        return len(self.y)\n",
    "\n",
    "\n",
    "\n",
    "X, y = make_moons(200, noise=0.2)\n",
    "X_train, X_val, y_train, y_val =  train_test_split(X, y, test_size=0.2)\n",
    "datasets = {\"train\": Dataset(X_train, y_train), \"valid\": Dataset(X_val, y_val)}"
   ],
   "metadata": {
    "collapsed": false,
    "pycharm": {
     "name": "#%%\n"
    }
   }
  },
  {
   "cell_type": "markdown",
   "source": [
    "Take a look on a data."
   ],
   "metadata": {
    "collapsed": false
   }
  },
  {
   "cell_type": "code",
   "execution_count": 15,
   "outputs": [
    {
     "output_type": "display_data",
     "data": {
      "text/plain": "<Figure size 720x576 with 1 Axes>",
      "image/svg+xml": "<?xml version=\"1.0\" encoding=\"utf-8\" standalone=\"no\"?>\n<!DOCTYPE svg PUBLIC \"-//W3C//DTD SVG 1.1//EN\"\n  \"http://www.w3.org/Graphics/SVG/1.1/DTD/svg11.dtd\">\n<!-- Created with matplotlib (https://matplotlib.org/) -->\n<svg height=\"490.322125pt\" version=\"1.1\" viewBox=\"0 0 619.295531 490.322125\" width=\"619.295531pt\" xmlns=\"http://www.w3.org/2000/svg\" xmlns:xlink=\"http://www.w3.org/1999/xlink\">\n <defs>\n  <style type=\"text/css\">\n*{stroke-linecap:butt;stroke-linejoin:round;}\n  </style>\n </defs>\n <g id=\"figure_1\">\n  <g id=\"patch_1\">\n   <path d=\"M 0 490.322125 \nL 619.295531 490.322125 \nL 619.295531 0 \nL 0 0 \nz\n\" style=\"fill:none;\"/>\n  </g>\n  <g id=\"axes_1\">\n   <g id=\"patch_2\">\n    <path d=\"M 54.095531 458.717812 \nL 612.095531 458.717812 \nL 612.095531 23.837812 \nL 54.095531 23.837812 \nz\n\" style=\"fill:#ffffff;\"/>\n   </g>\n   <g id=\"matplotlib.axis_1\">\n    <g id=\"xtick_1\">\n     <g id=\"line2d_1\">\n      <path clip-path=\"url(#p74a7964a91)\" d=\"M 119.527337 458.717812 \nL 119.527337 23.837812 \n\" style=\"fill:none;stroke:#cccccc;stroke-linecap:round;\"/>\n     </g>\n     <g id=\"text_1\">\n      <!-- −1.0 -->\n      <defs>\n       <path d=\"M 10.59375 35.5 \nL 73.1875 35.5 \nL 73.1875 27.203125 \nL 10.59375 27.203125 \nz\n\" id=\"DejaVuSans-8722\"/>\n       <path d=\"M 12.40625 8.296875 \nL 28.515625 8.296875 \nL 28.515625 63.921875 \nL 10.984375 60.40625 \nL 10.984375 69.390625 \nL 28.421875 72.90625 \nL 38.28125 72.90625 \nL 38.28125 8.296875 \nL 54.390625 8.296875 \nL 54.390625 0 \nL 12.40625 0 \nz\n\" id=\"DejaVuSans-49\"/>\n       <path d=\"M 10.6875 12.40625 \nL 21 12.40625 \nL 21 0 \nL 10.6875 0 \nz\n\" id=\"DejaVuSans-46\"/>\n       <path d=\"M 31.78125 66.40625 \nQ 24.171875 66.40625 20.328125 58.90625 \nQ 16.5 51.421875 16.5 36.375 \nQ 16.5 21.390625 20.328125 13.890625 \nQ 24.171875 6.390625 31.78125 6.390625 \nQ 39.453125 6.390625 43.28125 13.890625 \nQ 47.125 21.390625 47.125 36.375 \nQ 47.125 51.421875 43.28125 58.90625 \nQ 39.453125 66.40625 31.78125 66.40625 \nz\nM 31.78125 74.21875 \nQ 44.046875 74.21875 50.515625 64.515625 \nQ 56.984375 54.828125 56.984375 36.375 \nQ 56.984375 17.96875 50.515625 8.265625 \nQ 44.046875 -1.421875 31.78125 -1.421875 \nQ 19.53125 -1.421875 13.0625 8.265625 \nQ 6.59375 17.96875 6.59375 36.375 \nQ 6.59375 54.828125 13.0625 64.515625 \nQ 19.53125 74.21875 31.78125 74.21875 \nz\n\" id=\"DejaVuSans-48\"/>\n      </defs>\n      <g style=\"fill:#262626;\" transform=\"translate(100.829572 479.919406)scale(0.154 -0.154)\">\n       <use xlink:href=\"#DejaVuSans-8722\"/>\n       <use x=\"83.789062\" xlink:href=\"#DejaVuSans-49\"/>\n       <use x=\"147.412109\" xlink:href=\"#DejaVuSans-46\"/>\n       <use x=\"179.199219\" xlink:href=\"#DejaVuSans-48\"/>\n      </g>\n     </g>\n    </g>\n    <g id=\"xtick_2\">\n     <g id=\"line2d_2\">\n      <path clip-path=\"url(#p74a7964a91)\" d=\"M 186.013081 458.717812 \nL 186.013081 23.837812 \n\" style=\"fill:none;stroke:#cccccc;stroke-linecap:round;\"/>\n     </g>\n     <g id=\"text_2\">\n      <!-- −0.5 -->\n      <defs>\n       <path d=\"M 10.796875 72.90625 \nL 49.515625 72.90625 \nL 49.515625 64.59375 \nL 19.828125 64.59375 \nL 19.828125 46.734375 \nQ 21.96875 47.46875 24.109375 47.828125 \nQ 26.265625 48.1875 28.421875 48.1875 \nQ 40.625 48.1875 47.75 41.5 \nQ 54.890625 34.8125 54.890625 23.390625 \nQ 54.890625 11.625 47.5625 5.09375 \nQ 40.234375 -1.421875 26.90625 -1.421875 \nQ 22.3125 -1.421875 17.546875 -0.640625 \nQ 12.796875 0.140625 7.71875 1.703125 \nL 7.71875 11.625 \nQ 12.109375 9.234375 16.796875 8.0625 \nQ 21.484375 6.890625 26.703125 6.890625 \nQ 35.15625 6.890625 40.078125 11.328125 \nQ 45.015625 15.765625 45.015625 23.390625 \nQ 45.015625 31 40.078125 35.4375 \nQ 35.15625 39.890625 26.703125 39.890625 \nQ 22.75 39.890625 18.8125 39.015625 \nQ 14.890625 38.140625 10.796875 36.28125 \nz\n\" id=\"DejaVuSans-53\"/>\n      </defs>\n      <g style=\"fill:#262626;\" transform=\"translate(167.315315 479.919406)scale(0.154 -0.154)\">\n       <use xlink:href=\"#DejaVuSans-8722\"/>\n       <use x=\"83.789062\" xlink:href=\"#DejaVuSans-48\"/>\n       <use x=\"147.412109\" xlink:href=\"#DejaVuSans-46\"/>\n       <use x=\"179.199219\" xlink:href=\"#DejaVuSans-53\"/>\n      </g>\n     </g>\n    </g>\n    <g id=\"xtick_3\">\n     <g id=\"line2d_3\">\n      <path clip-path=\"url(#p74a7964a91)\" d=\"M 252.498824 458.717812 \nL 252.498824 23.837812 \n\" style=\"fill:none;stroke:#cccccc;stroke-linecap:round;\"/>\n     </g>\n     <g id=\"text_3\">\n      <!-- 0.0 -->\n      <g style=\"fill:#262626;\" transform=\"translate(240.253418 479.919406)scale(0.154 -0.154)\">\n       <use xlink:href=\"#DejaVuSans-48\"/>\n       <use x=\"63.623047\" xlink:href=\"#DejaVuSans-46\"/>\n       <use x=\"95.410156\" xlink:href=\"#DejaVuSans-48\"/>\n      </g>\n     </g>\n    </g>\n    <g id=\"xtick_4\">\n     <g id=\"line2d_4\">\n      <path clip-path=\"url(#p74a7964a91)\" d=\"M 318.984567 458.717812 \nL 318.984567 23.837812 \n\" style=\"fill:none;stroke:#cccccc;stroke-linecap:round;\"/>\n     </g>\n     <g id=\"text_4\">\n      <!-- 0.5 -->\n      <g style=\"fill:#262626;\" transform=\"translate(306.739161 479.919406)scale(0.154 -0.154)\">\n       <use xlink:href=\"#DejaVuSans-48\"/>\n       <use x=\"63.623047\" xlink:href=\"#DejaVuSans-46\"/>\n       <use x=\"95.410156\" xlink:href=\"#DejaVuSans-53\"/>\n      </g>\n     </g>\n    </g>\n    <g id=\"xtick_5\">\n     <g id=\"line2d_5\">\n      <path clip-path=\"url(#p74a7964a91)\" d=\"M 385.470311 458.717812 \nL 385.470311 23.837812 \n\" style=\"fill:none;stroke:#cccccc;stroke-linecap:round;\"/>\n     </g>\n     <g id=\"text_5\">\n      <!-- 1.0 -->\n      <g style=\"fill:#262626;\" transform=\"translate(373.224904 479.919406)scale(0.154 -0.154)\">\n       <use xlink:href=\"#DejaVuSans-49\"/>\n       <use x=\"63.623047\" xlink:href=\"#DejaVuSans-46\"/>\n       <use x=\"95.410156\" xlink:href=\"#DejaVuSans-48\"/>\n      </g>\n     </g>\n    </g>\n    <g id=\"xtick_6\">\n     <g id=\"line2d_6\">\n      <path clip-path=\"url(#p74a7964a91)\" d=\"M 451.956054 458.717812 \nL 451.956054 23.837812 \n\" style=\"fill:none;stroke:#cccccc;stroke-linecap:round;\"/>\n     </g>\n     <g id=\"text_6\">\n      <!-- 1.5 -->\n      <g style=\"fill:#262626;\" transform=\"translate(439.710648 479.919406)scale(0.154 -0.154)\">\n       <use xlink:href=\"#DejaVuSans-49\"/>\n       <use x=\"63.623047\" xlink:href=\"#DejaVuSans-46\"/>\n       <use x=\"95.410156\" xlink:href=\"#DejaVuSans-53\"/>\n      </g>\n     </g>\n    </g>\n    <g id=\"xtick_7\">\n     <g id=\"line2d_7\">\n      <path clip-path=\"url(#p74a7964a91)\" d=\"M 518.441797 458.717812 \nL 518.441797 23.837812 \n\" style=\"fill:none;stroke:#cccccc;stroke-linecap:round;\"/>\n     </g>\n     <g id=\"text_7\">\n      <!-- 2.0 -->\n      <defs>\n       <path d=\"M 19.1875 8.296875 \nL 53.609375 8.296875 \nL 53.609375 0 \nL 7.328125 0 \nL 7.328125 8.296875 \nQ 12.9375 14.109375 22.625 23.890625 \nQ 32.328125 33.6875 34.8125 36.53125 \nQ 39.546875 41.84375 41.421875 45.53125 \nQ 43.3125 49.21875 43.3125 52.78125 \nQ 43.3125 58.59375 39.234375 62.25 \nQ 35.15625 65.921875 28.609375 65.921875 \nQ 23.96875 65.921875 18.8125 64.3125 \nQ 13.671875 62.703125 7.8125 59.421875 \nL 7.8125 69.390625 \nQ 13.765625 71.78125 18.9375 73 \nQ 24.125 74.21875 28.421875 74.21875 \nQ 39.75 74.21875 46.484375 68.546875 \nQ 53.21875 62.890625 53.21875 53.421875 \nQ 53.21875 48.921875 51.53125 44.890625 \nQ 49.859375 40.875 45.40625 35.40625 \nQ 44.1875 33.984375 37.640625 27.21875 \nQ 31.109375 20.453125 19.1875 8.296875 \nz\n\" id=\"DejaVuSans-50\"/>\n      </defs>\n      <g style=\"fill:#262626;\" transform=\"translate(506.196391 479.919406)scale(0.154 -0.154)\">\n       <use xlink:href=\"#DejaVuSans-50\"/>\n       <use x=\"63.623047\" xlink:href=\"#DejaVuSans-46\"/>\n       <use x=\"95.410156\" xlink:href=\"#DejaVuSans-48\"/>\n      </g>\n     </g>\n    </g>\n    <g id=\"xtick_8\">\n     <g id=\"line2d_8\">\n      <path clip-path=\"url(#p74a7964a91)\" d=\"M 584.92754 458.717812 \nL 584.92754 23.837812 \n\" style=\"fill:none;stroke:#cccccc;stroke-linecap:round;\"/>\n     </g>\n     <g id=\"text_8\">\n      <!-- 2.5 -->\n      <g style=\"fill:#262626;\" transform=\"translate(572.682134 479.919406)scale(0.154 -0.154)\">\n       <use xlink:href=\"#DejaVuSans-50\"/>\n       <use x=\"63.623047\" xlink:href=\"#DejaVuSans-46\"/>\n       <use x=\"95.410156\" xlink:href=\"#DejaVuSans-53\"/>\n      </g>\n     </g>\n    </g>\n   </g>\n   <g id=\"matplotlib.axis_2\">\n    <g id=\"ytick_1\">\n     <g id=\"line2d_9\">\n      <path clip-path=\"url(#p74a7964a91)\" d=\"M 54.095531 442.482142 \nL 612.095531 442.482142 \n\" style=\"fill:none;stroke:#cccccc;stroke-linecap:round;\"/>\n     </g>\n     <g id=\"text_9\">\n      <!-- −1.0 -->\n      <g style=\"fill:#262626;\" transform=\"translate(7.2 448.332939)scale(0.154 -0.154)\">\n       <use xlink:href=\"#DejaVuSans-8722\"/>\n       <use x=\"83.789062\" xlink:href=\"#DejaVuSans-49\"/>\n       <use x=\"147.412109\" xlink:href=\"#DejaVuSans-46\"/>\n       <use x=\"179.199219\" xlink:href=\"#DejaVuSans-48\"/>\n      </g>\n     </g>\n    </g>\n    <g id=\"ytick_2\">\n     <g id=\"line2d_10\">\n      <path clip-path=\"url(#p74a7964a91)\" d=\"M 54.095531 360.158478 \nL 612.095531 360.158478 \n\" style=\"fill:none;stroke:#cccccc;stroke-linecap:round;\"/>\n     </g>\n     <g id=\"text_10\">\n      <!-- −0.5 -->\n      <g style=\"fill:#262626;\" transform=\"translate(7.2 366.009275)scale(0.154 -0.154)\">\n       <use xlink:href=\"#DejaVuSans-8722\"/>\n       <use x=\"83.789062\" xlink:href=\"#DejaVuSans-48\"/>\n       <use x=\"147.412109\" xlink:href=\"#DejaVuSans-46\"/>\n       <use x=\"179.199219\" xlink:href=\"#DejaVuSans-53\"/>\n      </g>\n     </g>\n    </g>\n    <g id=\"ytick_3\">\n     <g id=\"line2d_11\">\n      <path clip-path=\"url(#p74a7964a91)\" d=\"M 54.095531 277.834814 \nL 612.095531 277.834814 \n\" style=\"fill:none;stroke:#cccccc;stroke-linecap:round;\"/>\n     </g>\n     <g id=\"text_11\">\n      <!-- 0.0 -->\n      <g style=\"fill:#262626;\" transform=\"translate(20.104719 283.685611)scale(0.154 -0.154)\">\n       <use xlink:href=\"#DejaVuSans-48\"/>\n       <use x=\"63.623047\" xlink:href=\"#DejaVuSans-46\"/>\n       <use x=\"95.410156\" xlink:href=\"#DejaVuSans-48\"/>\n      </g>\n     </g>\n    </g>\n    <g id=\"ytick_4\">\n     <g id=\"line2d_12\">\n      <path clip-path=\"url(#p74a7964a91)\" d=\"M 54.095531 195.51115 \nL 612.095531 195.51115 \n\" style=\"fill:none;stroke:#cccccc;stroke-linecap:round;\"/>\n     </g>\n     <g id=\"text_12\">\n      <!-- 0.5 -->\n      <g style=\"fill:#262626;\" transform=\"translate(20.104719 201.361947)scale(0.154 -0.154)\">\n       <use xlink:href=\"#DejaVuSans-48\"/>\n       <use x=\"63.623047\" xlink:href=\"#DejaVuSans-46\"/>\n       <use x=\"95.410156\" xlink:href=\"#DejaVuSans-53\"/>\n      </g>\n     </g>\n    </g>\n    <g id=\"ytick_5\">\n     <g id=\"line2d_13\">\n      <path clip-path=\"url(#p74a7964a91)\" d=\"M 54.095531 113.187486 \nL 612.095531 113.187486 \n\" style=\"fill:none;stroke:#cccccc;stroke-linecap:round;\"/>\n     </g>\n     <g id=\"text_13\">\n      <!-- 1.0 -->\n      <g style=\"fill:#262626;\" transform=\"translate(20.104719 119.038283)scale(0.154 -0.154)\">\n       <use xlink:href=\"#DejaVuSans-49\"/>\n       <use x=\"63.623047\" xlink:href=\"#DejaVuSans-46\"/>\n       <use x=\"95.410156\" xlink:href=\"#DejaVuSans-48\"/>\n      </g>\n     </g>\n    </g>\n    <g id=\"ytick_6\">\n     <g id=\"line2d_14\">\n      <path clip-path=\"url(#p74a7964a91)\" d=\"M 54.095531 30.863822 \nL 612.095531 30.863822 \n\" style=\"fill:none;stroke:#cccccc;stroke-linecap:round;\"/>\n     </g>\n     <g id=\"text_14\">\n      <!-- 1.5 -->\n      <g style=\"fill:#262626;\" transform=\"translate(20.104719 36.714619)scale(0.154 -0.154)\">\n       <use xlink:href=\"#DejaVuSans-49\"/>\n       <use x=\"63.623047\" xlink:href=\"#DejaVuSans-46\"/>\n       <use x=\"95.410156\" xlink:href=\"#DejaVuSans-53\"/>\n      </g>\n     </g>\n    </g>\n   </g>\n   <g id=\"PathCollection_1\">\n    <defs>\n     <path d=\"M 0 3 \nC 0.795609 3 1.55874 2.683901 2.12132 2.12132 \nC 2.683901 1.55874 3 0.795609 3 0 \nC 3 -0.795609 2.683901 -1.55874 2.12132 -2.12132 \nC 1.55874 -2.683901 0.795609 -3 0 -3 \nC -0.795609 -3 -1.55874 -2.683901 -2.12132 -2.12132 \nC -2.683901 -1.55874 -3 -0.795609 -3 0 \nC -3 0.795609 -2.683901 1.55874 -2.12132 2.12132 \nC -1.55874 2.683901 -0.795609 3 0 3 \nz\n\" id=\"C0_0_ae46a0369c\"/>\n    </defs>\n    <g clip-path=\"url(#p74a7964a91)\">\n     <use style=\"fill:#ffa500;stroke:#ffa500;\" x=\"547.482881\" xlink:href=\"#C0_0_ae46a0369c\" y=\"189.380986\"/>\n    </g>\n    <g clip-path=\"url(#p74a7964a91)\">\n     <use style=\"fill:#ffa500;stroke:#ffa500;\" x=\"317.890803\" xlink:href=\"#C0_0_ae46a0369c\" y=\"351.700935\"/>\n    </g>\n    <g clip-path=\"url(#p74a7964a91)\">\n     <use style=\"fill:#ffa500;stroke:#ffa500;\" x=\"517.728991\" xlink:href=\"#C0_0_ae46a0369c\" y=\"310.327871\"/>\n    </g>\n    <g clip-path=\"url(#p74a7964a91)\">\n     <use style=\"fill:#008000;stroke:#008000;\" x=\"357.884295\" xlink:href=\"#C0_0_ae46a0369c\" y=\"173.509128\"/>\n    </g>\n    <g clip-path=\"url(#p74a7964a91)\">\n     <use style=\"fill:#ffa500;stroke:#ffa500;\" x=\"470.957284\" xlink:href=\"#C0_0_ae46a0369c\" y=\"338.657928\"/>\n    </g>\n    <g clip-path=\"url(#p74a7964a91)\">\n     <use style=\"fill:#008000;stroke:#008000;\" x=\"258.343242\" xlink:href=\"#C0_0_ae46a0369c\" y=\"95.450932\"/>\n    </g>\n    <g clip-path=\"url(#p74a7964a91)\">\n     <use style=\"fill:#008000;stroke:#008000;\" x=\"380.538455\" xlink:href=\"#C0_0_ae46a0369c\" y=\"210.744254\"/>\n    </g>\n    <g clip-path=\"url(#p74a7964a91)\">\n     <use style=\"fill:#ffa500;stroke:#ffa500;\" x=\"227.24622\" xlink:href=\"#C0_0_ae46a0369c\" y=\"231.95679\"/>\n    </g>\n    <g clip-path=\"url(#p74a7964a91)\">\n     <use style=\"fill:#008000;stroke:#008000;\" x=\"371.728771\" xlink:href=\"#C0_0_ae46a0369c\" y=\"252.277099\"/>\n    </g>\n    <g clip-path=\"url(#p74a7964a91)\">\n     <use style=\"fill:#008000;stroke:#008000;\" x=\"332.6996\" xlink:href=\"#C0_0_ae46a0369c\" y=\"135.190494\"/>\n    </g>\n    <g clip-path=\"url(#p74a7964a91)\">\n     <use style=\"fill:#ffa500;stroke:#ffa500;\" x=\"449.052402\" xlink:href=\"#C0_0_ae46a0369c\" y=\"367.025366\"/>\n    </g>\n    <g clip-path=\"url(#p74a7964a91)\">\n     <use style=\"fill:#008000;stroke:#008000;\" x=\"250.073016\" xlink:href=\"#C0_0_ae46a0369c\" y=\"174.598386\"/>\n    </g>\n    <g clip-path=\"url(#p74a7964a91)\">\n     <use style=\"fill:#ffa500;stroke:#ffa500;\" x=\"402.654614\" xlink:href=\"#C0_0_ae46a0369c\" y=\"378.216872\"/>\n    </g>\n    <g clip-path=\"url(#p74a7964a91)\">\n     <use style=\"fill:#ffa500;stroke:#ffa500;\" x=\"535.060588\" xlink:href=\"#C0_0_ae46a0369c\" y=\"203.081978\"/>\n    </g>\n    <g clip-path=\"url(#p74a7964a91)\">\n     <use style=\"fill:#008000;stroke:#008000;\" x=\"141.633302\" xlink:href=\"#C0_0_ae46a0369c\" y=\"203.726285\"/>\n    </g>\n    <g clip-path=\"url(#p74a7964a91)\">\n     <use style=\"fill:#008000;stroke:#008000;\" x=\"342.744808\" xlink:href=\"#C0_0_ae46a0369c\" y=\"172.111692\"/>\n    </g>\n    <g clip-path=\"url(#p74a7964a91)\">\n     <use style=\"fill:#008000;stroke:#008000;\" x=\"214.124218\" xlink:href=\"#C0_0_ae46a0369c\" y=\"141.313252\"/>\n    </g>\n    <g clip-path=\"url(#p74a7964a91)\">\n     <use style=\"fill:#008000;stroke:#008000;\" x=\"337.78038\" xlink:href=\"#C0_0_ae46a0369c\" y=\"179.084286\"/>\n    </g>\n    <g clip-path=\"url(#p74a7964a91)\">\n     <use style=\"fill:#008000;stroke:#008000;\" x=\"194.145303\" xlink:href=\"#C0_0_ae46a0369c\" y=\"93.487123\"/>\n    </g>\n    <g clip-path=\"url(#p74a7964a91)\">\n     <use style=\"fill:#ffa500;stroke:#ffa500;\" x=\"256.684736\" xlink:href=\"#C0_0_ae46a0369c\" y=\"174.797516\"/>\n    </g>\n    <g clip-path=\"url(#p74a7964a91)\">\n     <use style=\"fill:#ffa500;stroke:#ffa500;\" x=\"256.673721\" xlink:href=\"#C0_0_ae46a0369c\" y=\"221.021594\"/>\n    </g>\n    <g clip-path=\"url(#p74a7964a91)\">\n     <use style=\"fill:#ffa500;stroke:#ffa500;\" x=\"466.689529\" xlink:href=\"#C0_0_ae46a0369c\" y=\"291.524692\"/>\n    </g>\n    <g clip-path=\"url(#p74a7964a91)\">\n     <use style=\"fill:#ffa500;stroke:#ffa500;\" x=\"306.330445\" xlink:href=\"#C0_0_ae46a0369c\" y=\"309.857633\"/>\n    </g>\n    <g clip-path=\"url(#p74a7964a91)\">\n     <use style=\"fill:#008000;stroke:#008000;\" x=\"116.449196\" xlink:href=\"#C0_0_ae46a0369c\" y=\"217.832069\"/>\n    </g>\n    <g clip-path=\"url(#p74a7964a91)\">\n     <use style=\"fill:#008000;stroke:#008000;\" x=\"178.575455\" xlink:href=\"#C0_0_ae46a0369c\" y=\"139.769379\"/>\n    </g>\n    <g clip-path=\"url(#p74a7964a91)\">\n     <use style=\"fill:#ffa500;stroke:#ffa500;\" x=\"339.995932\" xlink:href=\"#C0_0_ae46a0369c\" y=\"367.260798\"/>\n    </g>\n    <g clip-path=\"url(#p74a7964a91)\">\n     <use style=\"fill:#ffa500;stroke:#ffa500;\" x=\"250.838927\" xlink:href=\"#C0_0_ae46a0369c\" y=\"193.04807\"/>\n    </g>\n    <g clip-path=\"url(#p74a7964a91)\">\n     <use style=\"fill:#008000;stroke:#008000;\" x=\"381.184796\" xlink:href=\"#C0_0_ae46a0369c\" y=\"190.183548\"/>\n    </g>\n    <g clip-path=\"url(#p74a7964a91)\">\n     <use style=\"fill:#ffa500;stroke:#ffa500;\" x=\"304.337612\" xlink:href=\"#C0_0_ae46a0369c\" y=\"361.631369\"/>\n    </g>\n    <g clip-path=\"url(#p74a7964a91)\">\n     <use style=\"fill:#ffa500;stroke:#ffa500;\" x=\"324.797418\" xlink:href=\"#C0_0_ae46a0369c\" y=\"297.775328\"/>\n    </g>\n    <g clip-path=\"url(#p74a7964a91)\">\n     <use style=\"fill:#ffa500;stroke:#ffa500;\" x=\"426.460974\" xlink:href=\"#C0_0_ae46a0369c\" y=\"397.497487\"/>\n    </g>\n    <g clip-path=\"url(#p74a7964a91)\">\n     <use style=\"fill:#008000;stroke:#008000;\" x=\"366.359119\" xlink:href=\"#C0_0_ae46a0369c\" y=\"285.445563\"/>\n    </g>\n    <g clip-path=\"url(#p74a7964a91)\">\n     <use style=\"fill:#ffa500;stroke:#ffa500;\" x=\"400.76644\" xlink:href=\"#C0_0_ae46a0369c\" y=\"307.732899\"/>\n    </g>\n    <g clip-path=\"url(#p74a7964a91)\">\n     <use style=\"fill:#008000;stroke:#008000;\" x=\"228.442296\" xlink:href=\"#C0_0_ae46a0369c\" y=\"176.396492\"/>\n    </g>\n    <g clip-path=\"url(#p74a7964a91)\">\n     <use style=\"fill:#008000;stroke:#008000;\" x=\"380.808018\" xlink:href=\"#C0_0_ae46a0369c\" y=\"272.457215\"/>\n    </g>\n    <g clip-path=\"url(#p74a7964a91)\">\n     <use style=\"fill:#008000;stroke:#008000;\" x=\"133.674003\" xlink:href=\"#C0_0_ae46a0369c\" y=\"202.788853\"/>\n    </g>\n    <g clip-path=\"url(#p74a7964a91)\">\n     <use style=\"fill:#ffa500;stroke:#ffa500;\" x=\"500.55918\" xlink:href=\"#C0_0_ae46a0369c\" y=\"352.835493\"/>\n    </g>\n    <g clip-path=\"url(#p74a7964a91)\">\n     <use style=\"fill:#008000;stroke:#008000;\" x=\"80.827019\" xlink:href=\"#C0_0_ae46a0369c\" y=\"196.726502\"/>\n    </g>\n    <g clip-path=\"url(#p74a7964a91)\">\n     <use style=\"fill:#008000;stroke:#008000;\" x=\"152.11269\" xlink:href=\"#C0_0_ae46a0369c\" y=\"151.823292\"/>\n    </g>\n    <g clip-path=\"url(#p74a7964a91)\">\n     <use style=\"fill:#ffa500;stroke:#ffa500;\" x=\"358.595647\" xlink:href=\"#C0_0_ae46a0369c\" y=\"354.16618\"/>\n    </g>\n    <g clip-path=\"url(#p74a7964a91)\">\n     <use style=\"fill:#ffa500;stroke:#ffa500;\" x=\"422.922391\" xlink:href=\"#C0_0_ae46a0369c\" y=\"324.189781\"/>\n    </g>\n    <g clip-path=\"url(#p74a7964a91)\">\n     <use style=\"fill:#008000;stroke:#008000;\" x=\"191.609384\" xlink:href=\"#C0_0_ae46a0369c\" y=\"160.89588\"/>\n    </g>\n    <g clip-path=\"url(#p74a7964a91)\">\n     <use style=\"fill:#008000;stroke:#008000;\" x=\"245.350415\" xlink:href=\"#C0_0_ae46a0369c\" y=\"151.258563\"/>\n    </g>\n    <g clip-path=\"url(#p74a7964a91)\">\n     <use style=\"fill:#008000;stroke:#008000;\" x=\"358.171129\" xlink:href=\"#C0_0_ae46a0369c\" y=\"182.565134\"/>\n    </g>\n    <g clip-path=\"url(#p74a7964a91)\">\n     <use style=\"fill:#008000;stroke:#008000;\" x=\"317.971435\" xlink:href=\"#C0_0_ae46a0369c\" y=\"74.410019\"/>\n    </g>\n    <g clip-path=\"url(#p74a7964a91)\">\n     <use style=\"fill:#ffa500;stroke:#ffa500;\" x=\"357.746001\" xlink:href=\"#C0_0_ae46a0369c\" y=\"427.112617\"/>\n    </g>\n    <g clip-path=\"url(#p74a7964a91)\">\n     <use style=\"fill:#ffa500;stroke:#ffa500;\" x=\"281.586106\" xlink:href=\"#C0_0_ae46a0369c\" y=\"287.429217\"/>\n    </g>\n    <g clip-path=\"url(#p74a7964a91)\">\n     <use style=\"fill:#ffa500;stroke:#ffa500;\" x=\"537.041686\" xlink:href=\"#C0_0_ae46a0369c\" y=\"287.657227\"/>\n    </g>\n    <g clip-path=\"url(#p74a7964a91)\">\n     <use style=\"fill:#008000;stroke:#008000;\" x=\"79.459168\" xlink:href=\"#C0_0_ae46a0369c\" y=\"228.957834\"/>\n    </g>\n    <g clip-path=\"url(#p74a7964a91)\">\n     <use style=\"fill:#ffa500;stroke:#ffa500;\" x=\"267.296379\" xlink:href=\"#C0_0_ae46a0369c\" y=\"343.186323\"/>\n    </g>\n    <g clip-path=\"url(#p74a7964a91)\">\n     <use style=\"fill:#ffa500;stroke:#ffa500;\" x=\"357.646332\" xlink:href=\"#C0_0_ae46a0369c\" y=\"336.491714\"/>\n    </g>\n    <g clip-path=\"url(#p74a7964a91)\">\n     <use style=\"fill:#008000;stroke:#008000;\" x=\"165.988588\" xlink:href=\"#C0_0_ae46a0369c\" y=\"186.829732\"/>\n    </g>\n    <g clip-path=\"url(#p74a7964a91)\">\n     <use style=\"fill:#008000;stroke:#008000;\" x=\"80.799664\" xlink:href=\"#C0_0_ae46a0369c\" y=\"212.669051\"/>\n    </g>\n    <g clip-path=\"url(#p74a7964a91)\">\n     <use style=\"fill:#008000;stroke:#008000;\" x=\"136.760287\" xlink:href=\"#C0_0_ae46a0369c\" y=\"135.766702\"/>\n    </g>\n    <g clip-path=\"url(#p74a7964a91)\">\n     <use style=\"fill:#ffa500;stroke:#ffa500;\" x=\"443.548603\" xlink:href=\"#C0_0_ae46a0369c\" y=\"402.979242\"/>\n    </g>\n    <g clip-path=\"url(#p74a7964a91)\">\n     <use style=\"fill:#008000;stroke:#008000;\" x=\"371.475537\" xlink:href=\"#C0_0_ae46a0369c\" y=\"206.713095\"/>\n    </g>\n    <g clip-path=\"url(#p74a7964a91)\">\n     <use style=\"fill:#ffa500;stroke:#ffa500;\" x=\"262.656014\" xlink:href=\"#C0_0_ae46a0369c\" y=\"274.540436\"/>\n    </g>\n    <g clip-path=\"url(#p74a7964a91)\">\n     <use style=\"fill:#ffa500;stroke:#ffa500;\" x=\"485.156778\" xlink:href=\"#C0_0_ae46a0369c\" y=\"255.880747\"/>\n    </g>\n    <g clip-path=\"url(#p74a7964a91)\">\n     <use style=\"fill:#ffa500;stroke:#ffa500;\" x=\"282.326657\" xlink:href=\"#C0_0_ae46a0369c\" y=\"307.362473\"/>\n    </g>\n    <g clip-path=\"url(#p74a7964a91)\">\n     <use style=\"fill:#ffa500;stroke:#ffa500;\" x=\"417.102645\" xlink:href=\"#C0_0_ae46a0369c\" y=\"303.500568\"/>\n    </g>\n    <g clip-path=\"url(#p74a7964a91)\">\n     <use style=\"fill:#008000;stroke:#008000;\" x=\"139.738253\" xlink:href=\"#C0_0_ae46a0369c\" y=\"241.834782\"/>\n    </g>\n    <g clip-path=\"url(#p74a7964a91)\">\n     <use style=\"fill:#008000;stroke:#008000;\" x=\"133.196229\" xlink:href=\"#C0_0_ae46a0369c\" y=\"144.129369\"/>\n    </g>\n    <g clip-path=\"url(#p74a7964a91)\">\n     <use style=\"fill:#008000;stroke:#008000;\" x=\"162.940717\" xlink:href=\"#C0_0_ae46a0369c\" y=\"311.855774\"/>\n    </g>\n    <g clip-path=\"url(#p74a7964a91)\">\n     <use style=\"fill:#ffa500;stroke:#ffa500;\" x=\"455.365065\" xlink:href=\"#C0_0_ae46a0369c\" y=\"259.68657\"/>\n    </g>\n    <g clip-path=\"url(#p74a7964a91)\">\n     <use style=\"fill:#ffa500;stroke:#ffa500;\" x=\"257.012699\" xlink:href=\"#C0_0_ae46a0369c\" y=\"329.170618\"/>\n    </g>\n    <g clip-path=\"url(#p74a7964a91)\">\n     <use style=\"fill:#008000;stroke:#008000;\" x=\"289.704461\" xlink:href=\"#C0_0_ae46a0369c\" y=\"127.231174\"/>\n    </g>\n    <g clip-path=\"url(#p74a7964a91)\">\n     <use style=\"fill:#008000;stroke:#008000;\" x=\"127.824137\" xlink:href=\"#C0_0_ae46a0369c\" y=\"293.1243\"/>\n    </g>\n    <g clip-path=\"url(#p74a7964a91)\">\n     <use style=\"fill:#008000;stroke:#008000;\" x=\"398.548449\" xlink:href=\"#C0_0_ae46a0369c\" y=\"302.605302\"/>\n    </g>\n    <g clip-path=\"url(#p74a7964a91)\">\n     <use style=\"fill:#ffa500;stroke:#ffa500;\" x=\"441.128797\" xlink:href=\"#C0_0_ae46a0369c\" y=\"270.621202\"/>\n    </g>\n    <g clip-path=\"url(#p74a7964a91)\">\n     <use style=\"fill:#ffa500;stroke:#ffa500;\" x=\"449.621637\" xlink:href=\"#C0_0_ae46a0369c\" y=\"326.194229\"/>\n    </g>\n    <g clip-path=\"url(#p74a7964a91)\">\n     <use style=\"fill:#ffa500;stroke:#ffa500;\" x=\"320.220943\" xlink:href=\"#C0_0_ae46a0369c\" y=\"393.50519\"/>\n    </g>\n    <g clip-path=\"url(#p74a7964a91)\">\n     <use style=\"fill:#008000;stroke:#008000;\" x=\"119.544984\" xlink:href=\"#C0_0_ae46a0369c\" y=\"297.943901\"/>\n    </g>\n    <g clip-path=\"url(#p74a7964a91)\">\n     <use style=\"fill:#008000;stroke:#008000;\" x=\"209.734079\" xlink:href=\"#C0_0_ae46a0369c\" y=\"108.652078\"/>\n    </g>\n    <g clip-path=\"url(#p74a7964a91)\">\n     <use style=\"fill:#ffa500;stroke:#ffa500;\" x=\"329.264613\" xlink:href=\"#C0_0_ae46a0369c\" y=\"289.962037\"/>\n    </g>\n    <g clip-path=\"url(#p74a7964a91)\">\n     <use style=\"fill:#008000;stroke:#008000;\" x=\"243.156836\" xlink:href=\"#C0_0_ae46a0369c\" y=\"119.700997\"/>\n    </g>\n    <g clip-path=\"url(#p74a7964a91)\">\n     <use style=\"fill:#008000;stroke:#008000;\" x=\"149.796264\" xlink:href=\"#C0_0_ae46a0369c\" y=\"158.167797\"/>\n    </g>\n    <g clip-path=\"url(#p74a7964a91)\">\n     <use style=\"fill:#008000;stroke:#008000;\" x=\"98.218143\" xlink:href=\"#C0_0_ae46a0369c\" y=\"178.342519\"/>\n    </g>\n    <g clip-path=\"url(#p74a7964a91)\">\n     <use style=\"fill:#ffa500;stroke:#ffa500;\" x=\"586.731895\" xlink:href=\"#C0_0_ae46a0369c\" y=\"169.11986\"/>\n    </g>\n    <g clip-path=\"url(#p74a7964a91)\">\n     <use style=\"fill:#008000;stroke:#008000;\" x=\"152.311686\" xlink:href=\"#C0_0_ae46a0369c\" y=\"199.320738\"/>\n    </g>\n    <g clip-path=\"url(#p74a7964a91)\">\n     <use style=\"fill:#008000;stroke:#008000;\" x=\"261.481413\" xlink:href=\"#C0_0_ae46a0369c\" y=\"139.076533\"/>\n    </g>\n    <g clip-path=\"url(#p74a7964a91)\">\n     <use style=\"fill:#ffa500;stroke:#ffa500;\" x=\"486.602918\" xlink:href=\"#C0_0_ae46a0369c\" y=\"359.953425\"/>\n    </g>\n    <g clip-path=\"url(#p74a7964a91)\">\n     <use style=\"fill:#ffa500;stroke:#ffa500;\" x=\"561.70051\" xlink:href=\"#C0_0_ae46a0369c\" y=\"187.986982\"/>\n    </g>\n    <g clip-path=\"url(#p74a7964a91)\">\n     <use style=\"fill:#ffa500;stroke:#ffa500;\" x=\"479.89269\" xlink:href=\"#C0_0_ae46a0369c\" y=\"280.905567\"/>\n    </g>\n    <g clip-path=\"url(#p74a7964a91)\">\n     <use style=\"fill:#ffa500;stroke:#ffa500;\" x=\"479.016259\" xlink:href=\"#C0_0_ae46a0369c\" y=\"267.90606\"/>\n    </g>\n    <g clip-path=\"url(#p74a7964a91)\">\n     <use style=\"fill:#008000;stroke:#008000;\" x=\"142.777611\" xlink:href=\"#C0_0_ae46a0369c\" y=\"158.998029\"/>\n    </g>\n    <g clip-path=\"url(#p74a7964a91)\">\n     <use style=\"fill:#ffa500;stroke:#ffa500;\" x=\"463.472525\" xlink:href=\"#C0_0_ae46a0369c\" y=\"347.93724\"/>\n    </g>\n    <g clip-path=\"url(#p74a7964a91)\">\n     <use style=\"fill:#008000;stroke:#008000;\" x=\"351.23771\" xlink:href=\"#C0_0_ae46a0369c\" y=\"278.70027\"/>\n    </g>\n    <g clip-path=\"url(#p74a7964a91)\">\n     <use style=\"fill:#ffa500;stroke:#ffa500;\" x=\"238.95506\" xlink:href=\"#C0_0_ae46a0369c\" y=\"274.929075\"/>\n    </g>\n    <g clip-path=\"url(#p74a7964a91)\">\n     <use style=\"fill:#008000;stroke:#008000;\" x=\"99.892968\" xlink:href=\"#C0_0_ae46a0369c\" y=\"309.387704\"/>\n    </g>\n    <g clip-path=\"url(#p74a7964a91)\">\n     <use style=\"fill:#ffa500;stroke:#ffa500;\" x=\"492.141915\" xlink:href=\"#C0_0_ae46a0369c\" y=\"310.469126\"/>\n    </g>\n    <g clip-path=\"url(#p74a7964a91)\">\n     <use style=\"fill:#ffa500;stroke:#ffa500;\" x=\"509.50896\" xlink:href=\"#C0_0_ae46a0369c\" y=\"272.533596\"/>\n    </g>\n    <g clip-path=\"url(#p74a7964a91)\">\n     <use style=\"fill:#ffa500;stroke:#ffa500;\" x=\"258.762499\" xlink:href=\"#C0_0_ae46a0369c\" y=\"350.664205\"/>\n    </g>\n    <g clip-path=\"url(#p74a7964a91)\">\n     <use style=\"fill:#008000;stroke:#008000;\" x=\"139.375409\" xlink:href=\"#C0_0_ae46a0369c\" y=\"197.926083\"/>\n    </g>\n    <g clip-path=\"url(#p74a7964a91)\">\n     <use style=\"fill:#008000;stroke:#008000;\" x=\"335.599087\" xlink:href=\"#C0_0_ae46a0369c\" y=\"203.198451\"/>\n    </g>\n    <g clip-path=\"url(#p74a7964a91)\">\n     <use style=\"fill:#ffa500;stroke:#ffa500;\" x=\"280.163659\" xlink:href=\"#C0_0_ae46a0369c\" y=\"271.137557\"/>\n    </g>\n    <g clip-path=\"url(#p74a7964a91)\">\n     <use style=\"fill:#008000;stroke:#008000;\" x=\"203.656406\" xlink:href=\"#C0_0_ae46a0369c\" y=\"113.155665\"/>\n    </g>\n    <g clip-path=\"url(#p74a7964a91)\">\n     <use style=\"fill:#ffa500;stroke:#ffa500;\" x=\"382.983116\" xlink:href=\"#C0_0_ae46a0369c\" y=\"370.884249\"/>\n    </g>\n    <g clip-path=\"url(#p74a7964a91)\">\n     <use style=\"fill:#008000;stroke:#008000;\" x=\"179.155492\" xlink:href=\"#C0_0_ae46a0369c\" y=\"154.400508\"/>\n    </g>\n    <g clip-path=\"url(#p74a7964a91)\">\n     <use style=\"fill:#ffa500;stroke:#ffa500;\" x=\"508.482452\" xlink:href=\"#C0_0_ae46a0369c\" y=\"265.153056\"/>\n    </g>\n    <g clip-path=\"url(#p74a7964a91)\">\n     <use style=\"fill:#008000;stroke:#008000;\" x=\"281.992144\" xlink:href=\"#C0_0_ae46a0369c\" y=\"131.620087\"/>\n    </g>\n    <g clip-path=\"url(#p74a7964a91)\">\n     <use style=\"fill:#008000;stroke:#008000;\" x=\"362.374512\" xlink:href=\"#C0_0_ae46a0369c\" y=\"306.586299\"/>\n    </g>\n    <g clip-path=\"url(#p74a7964a91)\">\n     <use style=\"fill:#008000;stroke:#008000;\" x=\"250.73278\" xlink:href=\"#C0_0_ae46a0369c\" y=\"64.976749\"/>\n    </g>\n    <g clip-path=\"url(#p74a7964a91)\">\n     <use style=\"fill:#ffa500;stroke:#ffa500;\" x=\"412.352893\" xlink:href=\"#C0_0_ae46a0369c\" y=\"329.345042\"/>\n    </g>\n    <g clip-path=\"url(#p74a7964a91)\">\n     <use style=\"fill:#008000;stroke:#008000;\" x=\"301.41378\" xlink:href=\"#C0_0_ae46a0369c\" y=\"117.692371\"/>\n    </g>\n    <g clip-path=\"url(#p74a7964a91)\">\n     <use style=\"fill:#008000;stroke:#008000;\" x=\"239.812206\" xlink:href=\"#C0_0_ae46a0369c\" y=\"163.47688\"/>\n    </g>\n    <g clip-path=\"url(#p74a7964a91)\">\n     <use style=\"fill:#ffa500;stroke:#ffa500;\" x=\"404.177252\" xlink:href=\"#C0_0_ae46a0369c\" y=\"303.458988\"/>\n    </g>\n    <g clip-path=\"url(#p74a7964a91)\">\n     <use style=\"fill:#008000;stroke:#008000;\" x=\"339.612392\" xlink:href=\"#C0_0_ae46a0369c\" y=\"275.443073\"/>\n    </g>\n    <g clip-path=\"url(#p74a7964a91)\">\n     <use style=\"fill:#ffa500;stroke:#ffa500;\" x=\"451.011304\" xlink:href=\"#C0_0_ae46a0369c\" y=\"361.472866\"/>\n    </g>\n    <g clip-path=\"url(#p74a7964a91)\">\n     <use style=\"fill:#008000;stroke:#008000;\" x=\"259.032976\" xlink:href=\"#C0_0_ae46a0369c\" y=\"86.091912\"/>\n    </g>\n    <g clip-path=\"url(#p74a7964a91)\">\n     <use style=\"fill:#ffa500;stroke:#ffa500;\" x=\"405.890267\" xlink:href=\"#C0_0_ae46a0369c\" y=\"315.298726\"/>\n    </g>\n    <g clip-path=\"url(#p74a7964a91)\">\n     <use style=\"fill:#008000;stroke:#008000;\" x=\"139.606373\" xlink:href=\"#C0_0_ae46a0369c\" y=\"215.613947\"/>\n    </g>\n    <g clip-path=\"url(#p74a7964a91)\">\n     <use style=\"fill:#ffa500;stroke:#ffa500;\" x=\"561.829899\" xlink:href=\"#C0_0_ae46a0369c\" y=\"264.45848\"/>\n    </g>\n    <g clip-path=\"url(#p74a7964a91)\">\n     <use style=\"fill:#008000;stroke:#008000;\" x=\"367.665454\" xlink:href=\"#C0_0_ae46a0369c\" y=\"196.568207\"/>\n    </g>\n    <g clip-path=\"url(#p74a7964a91)\">\n     <use style=\"fill:#ffa500;stroke:#ffa500;\" x=\"390.081003\" xlink:href=\"#C0_0_ae46a0369c\" y=\"346.64189\"/>\n    </g>\n    <g clip-path=\"url(#p74a7964a91)\">\n     <use style=\"fill:#ffa500;stroke:#ffa500;\" x=\"487.964931\" xlink:href=\"#C0_0_ae46a0369c\" y=\"286.510365\"/>\n    </g>\n    <g clip-path=\"url(#p74a7964a91)\">\n     <use style=\"fill:#008000;stroke:#008000;\" x=\"370.954111\" xlink:href=\"#C0_0_ae46a0369c\" y=\"201.315461\"/>\n    </g>\n    <g clip-path=\"url(#p74a7964a91)\">\n     <use style=\"fill:#008000;stroke:#008000;\" x=\"420.544311\" xlink:href=\"#C0_0_ae46a0369c\" y=\"226.941775\"/>\n    </g>\n    <g clip-path=\"url(#p74a7964a91)\">\n     <use style=\"fill:#ffa500;stroke:#ffa500;\" x=\"398.582903\" xlink:href=\"#C0_0_ae46a0369c\" y=\"340.577034\"/>\n    </g>\n    <g clip-path=\"url(#p74a7964a91)\">\n     <use style=\"fill:#008000;stroke:#008000;\" x=\"278.718929\" xlink:href=\"#C0_0_ae46a0369c\" y=\"107.911247\"/>\n    </g>\n    <g clip-path=\"url(#p74a7964a91)\">\n     <use style=\"fill:#ffa500;stroke:#ffa500;\" x=\"514.996197\" xlink:href=\"#C0_0_ae46a0369c\" y=\"209.636236\"/>\n    </g>\n    <g clip-path=\"url(#p74a7964a91)\">\n     <use style=\"fill:#ffa500;stroke:#ffa500;\" x=\"272.964753\" xlink:href=\"#C0_0_ae46a0369c\" y=\"284.407057\"/>\n    </g>\n    <g clip-path=\"url(#p74a7964a91)\">\n     <use style=\"fill:#008000;stroke:#008000;\" x=\"306.630091\" xlink:href=\"#C0_0_ae46a0369c\" y=\"204.386947\"/>\n    </g>\n    <g clip-path=\"url(#p74a7964a91)\">\n     <use style=\"fill:#008000;stroke:#008000;\" x=\"206.344561\" xlink:href=\"#C0_0_ae46a0369c\" y=\"44.622623\"/>\n    </g>\n    <g clip-path=\"url(#p74a7964a91)\">\n     <use style=\"fill:#ffa500;stroke:#ffa500;\" x=\"495.475435\" xlink:href=\"#C0_0_ae46a0369c\" y=\"211.85153\"/>\n    </g>\n    <g clip-path=\"url(#p74a7964a91)\">\n     <use style=\"fill:#ffa500;stroke:#ffa500;\" x=\"345.233097\" xlink:href=\"#C0_0_ae46a0369c\" y=\"317.575498\"/>\n    </g>\n    <g clip-path=\"url(#p74a7964a91)\">\n     <use style=\"fill:#008000;stroke:#008000;\" x=\"264.119017\" xlink:href=\"#C0_0_ae46a0369c\" y=\"82.966594\"/>\n    </g>\n    <g clip-path=\"url(#p74a7964a91)\">\n     <use style=\"fill:#008000;stroke:#008000;\" x=\"283.540626\" xlink:href=\"#C0_0_ae46a0369c\" y=\"154.502973\"/>\n    </g>\n    <g clip-path=\"url(#p74a7964a91)\">\n     <use style=\"fill:#ffa500;stroke:#ffa500;\" x=\"321.536212\" xlink:href=\"#C0_0_ae46a0369c\" y=\"334.540401\"/>\n    </g>\n    <g clip-path=\"url(#p74a7964a91)\">\n     <use style=\"fill:#ffa500;stroke:#ffa500;\" x=\"533.021269\" xlink:href=\"#C0_0_ae46a0369c\" y=\"228.894663\"/>\n    </g>\n    <g clip-path=\"url(#p74a7964a91)\">\n     <use style=\"fill:#008000;stroke:#008000;\" x=\"193.562668\" xlink:href=\"#C0_0_ae46a0369c\" y=\"82.632639\"/>\n    </g>\n    <g clip-path=\"url(#p74a7964a91)\">\n     <use style=\"fill:#008000;stroke:#008000;\" x=\"354.490795\" xlink:href=\"#C0_0_ae46a0369c\" y=\"196.827263\"/>\n    </g>\n    <g clip-path=\"url(#p74a7964a91)\">\n     <use style=\"fill:#ffa500;stroke:#ffa500;\" x=\"283.349953\" xlink:href=\"#C0_0_ae46a0369c\" y=\"308.227541\"/>\n    </g>\n    <g clip-path=\"url(#p74a7964a91)\">\n     <use style=\"fill:#008000;stroke:#008000;\" x=\"353.387027\" xlink:href=\"#C0_0_ae46a0369c\" y=\"172.636583\"/>\n    </g>\n    <g clip-path=\"url(#p74a7964a91)\">\n     <use style=\"fill:#008000;stroke:#008000;\" x=\"185.342741\" xlink:href=\"#C0_0_ae46a0369c\" y=\"137.13381\"/>\n    </g>\n    <g clip-path=\"url(#p74a7964a91)\">\n     <use style=\"fill:#ffa500;stroke:#ffa500;\" x=\"489.200803\" xlink:href=\"#C0_0_ae46a0369c\" y=\"329.604024\"/>\n    </g>\n    <g clip-path=\"url(#p74a7964a91)\">\n     <use style=\"fill:#ffa500;stroke:#ffa500;\" x=\"251.134435\" xlink:href=\"#C0_0_ae46a0369c\" y=\"251.54365\"/>\n    </g>\n    <g clip-path=\"url(#p74a7964a91)\">\n     <use style=\"fill:#008000;stroke:#008000;\" x=\"150.206616\" xlink:href=\"#C0_0_ae46a0369c\" y=\"207.362282\"/>\n    </g>\n    <g clip-path=\"url(#p74a7964a91)\">\n     <use style=\"fill:#ffa500;stroke:#ffa500;\" x=\"279.628089\" xlink:href=\"#C0_0_ae46a0369c\" y=\"288.661141\"/>\n    </g>\n    <g clip-path=\"url(#p74a7964a91)\">\n     <use style=\"fill:#ffa500;stroke:#ffa500;\" x=\"258.618048\" xlink:href=\"#C0_0_ae46a0369c\" y=\"148.637065\"/>\n    </g>\n    <g clip-path=\"url(#p74a7964a91)\">\n     <use style=\"fill:#ffa500;stroke:#ffa500;\" x=\"239.980034\" xlink:href=\"#C0_0_ae46a0369c\" y=\"239.568115\"/>\n    </g>\n    <g clip-path=\"url(#p74a7964a91)\">\n     <use style=\"fill:#008000;stroke:#008000;\" x=\"342.094183\" xlink:href=\"#C0_0_ae46a0369c\" y=\"205.470956\"/>\n    </g>\n    <g clip-path=\"url(#p74a7964a91)\">\n     <use style=\"fill:#008000;stroke:#008000;\" x=\"336.431414\" xlink:href=\"#C0_0_ae46a0369c\" y=\"145.164461\"/>\n    </g>\n    <g clip-path=\"url(#p74a7964a91)\">\n     <use style=\"fill:#ffa500;stroke:#ffa500;\" x=\"340.65348\" xlink:href=\"#C0_0_ae46a0369c\" y=\"344.751635\"/>\n    </g>\n    <g clip-path=\"url(#p74a7964a91)\">\n     <use style=\"fill:#008000;stroke:#008000;\" x=\"211.350459\" xlink:href=\"#C0_0_ae46a0369c\" y=\"106.67118\"/>\n    </g>\n    <g clip-path=\"url(#p74a7964a91)\">\n     <use style=\"fill:#008000;stroke:#008000;\" x=\"161.410015\" xlink:href=\"#C0_0_ae46a0369c\" y=\"359.683564\"/>\n    </g>\n    <g clip-path=\"url(#p74a7964a91)\">\n     <use style=\"fill:#ffa500;stroke:#ffa500;\" x=\"216.538815\" xlink:href=\"#C0_0_ae46a0369c\" y=\"218.321712\"/>\n    </g>\n    <g clip-path=\"url(#p74a7964a91)\">\n     <use style=\"fill:#008000;stroke:#008000;\" x=\"145.541875\" xlink:href=\"#C0_0_ae46a0369c\" y=\"105.146539\"/>\n    </g>\n    <g clip-path=\"url(#p74a7964a91)\">\n     <use style=\"fill:#ffa500;stroke:#ffa500;\" x=\"345.71458\" xlink:href=\"#C0_0_ae46a0369c\" y=\"407.941089\"/>\n    </g>\n    <g clip-path=\"url(#p74a7964a91)\">\n     <use style=\"fill:#008000;stroke:#008000;\" x=\"384.210016\" xlink:href=\"#C0_0_ae46a0369c\" y=\"281.442999\"/>\n    </g>\n    <g clip-path=\"url(#p74a7964a91)\">\n     <use style=\"fill:#008000;stroke:#008000;\" x=\"195.203651\" xlink:href=\"#C0_0_ae46a0369c\" y=\"157.965078\"/>\n    </g>\n    <g clip-path=\"url(#p74a7964a91)\">\n     <use style=\"fill:#008000;stroke:#008000;\" x=\"114.858757\" xlink:href=\"#C0_0_ae46a0369c\" y=\"151.59469\"/>\n    </g>\n    <g clip-path=\"url(#p74a7964a91)\">\n     <use style=\"fill:#008000;stroke:#008000;\" x=\"343.425121\" xlink:href=\"#C0_0_ae46a0369c\" y=\"116.421697\"/>\n    </g>\n    <g clip-path=\"url(#p74a7964a91)\">\n     <use style=\"fill:#008000;stroke:#008000;\" x=\"215.362646\" xlink:href=\"#C0_0_ae46a0369c\" y=\"44.177067\"/>\n    </g>\n    <g clip-path=\"url(#p74a7964a91)\">\n     <use style=\"fill:#008000;stroke:#008000;\" x=\"303.757402\" xlink:href=\"#C0_0_ae46a0369c\" y=\"125.312623\"/>\n    </g>\n    <g clip-path=\"url(#p74a7964a91)\">\n     <use style=\"fill:#ffa500;stroke:#ffa500;\" x=\"414.637616\" xlink:href=\"#C0_0_ae46a0369c\" y=\"331.249562\"/>\n    </g>\n    <g clip-path=\"url(#p74a7964a91)\">\n     <use style=\"fill:#ffa500;stroke:#ffa500;\" x=\"256.208159\" xlink:href=\"#C0_0_ae46a0369c\" y=\"317.744065\"/>\n    </g>\n    <g clip-path=\"url(#p74a7964a91)\">\n     <use style=\"fill:#ffa500;stroke:#ffa500;\" x=\"253.892079\" xlink:href=\"#C0_0_ae46a0369c\" y=\"240.299307\"/>\n    </g>\n    <g clip-path=\"url(#p74a7964a91)\">\n     <use style=\"fill:#008000;stroke:#008000;\" x=\"326.864732\" xlink:href=\"#C0_0_ae46a0369c\" y=\"100.837253\"/>\n    </g>\n    <g clip-path=\"url(#p74a7964a91)\">\n     <use style=\"fill:#008000;stroke:#008000;\" x=\"262.491873\" xlink:href=\"#C0_0_ae46a0369c\" y=\"43.605085\"/>\n    </g>\n    <g clip-path=\"url(#p74a7964a91)\">\n     <use style=\"fill:#008000;stroke:#008000;\" x=\"342.419535\" xlink:href=\"#C0_0_ae46a0369c\" y=\"145.030599\"/>\n    </g>\n    <g clip-path=\"url(#p74a7964a91)\">\n     <use style=\"fill:#ffa500;stroke:#ffa500;\" x=\"298.675163\" xlink:href=\"#C0_0_ae46a0369c\" y=\"334.934359\"/>\n    </g>\n    <g clip-path=\"url(#p74a7964a91)\">\n     <use style=\"fill:#008000;stroke:#008000;\" x=\"143.544089\" xlink:href=\"#C0_0_ae46a0369c\" y=\"159.916269\"/>\n    </g>\n    <g clip-path=\"url(#p74a7964a91)\">\n     <use style=\"fill:#ffa500;stroke:#ffa500;\" x=\"365.669577\" xlink:href=\"#C0_0_ae46a0369c\" y=\"317.064083\"/>\n    </g>\n    <g clip-path=\"url(#p74a7964a91)\">\n     <use style=\"fill:#008000;stroke:#008000;\" x=\"350.558957\" xlink:href=\"#C0_0_ae46a0369c\" y=\"269.032631\"/>\n    </g>\n    <g clip-path=\"url(#p74a7964a91)\">\n     <use style=\"fill:#008000;stroke:#008000;\" x=\"322.077411\" xlink:href=\"#C0_0_ae46a0369c\" y=\"145.453518\"/>\n    </g>\n    <g clip-path=\"url(#p74a7964a91)\">\n     <use style=\"fill:#ffa500;stroke:#ffa500;\" x=\"514.024574\" xlink:href=\"#C0_0_ae46a0369c\" y=\"172.817308\"/>\n    </g>\n    <g clip-path=\"url(#p74a7964a91)\">\n     <use style=\"fill:#ffa500;stroke:#ffa500;\" x=\"302.611914\" xlink:href=\"#C0_0_ae46a0369c\" y=\"344.107177\"/>\n    </g>\n    <g clip-path=\"url(#p74a7964a91)\">\n     <use style=\"fill:#ffa500;stroke:#ffa500;\" x=\"500.63785\" xlink:href=\"#C0_0_ae46a0369c\" y=\"344.867288\"/>\n    </g>\n    <g clip-path=\"url(#p74a7964a91)\">\n     <use style=\"fill:#ffa500;stroke:#ffa500;\" x=\"225.939976\" xlink:href=\"#C0_0_ae46a0369c\" y=\"328.422794\"/>\n    </g>\n    <g clip-path=\"url(#p74a7964a91)\">\n     <use style=\"fill:#ffa500;stroke:#ffa500;\" x=\"524.475124\" xlink:href=\"#C0_0_ae46a0369c\" y=\"304.978057\"/>\n    </g>\n    <g clip-path=\"url(#p74a7964a91)\">\n     <use style=\"fill:#008000;stroke:#008000;\" x=\"178.54272\" xlink:href=\"#C0_0_ae46a0369c\" y=\"186.5264\"/>\n    </g>\n    <g clip-path=\"url(#p74a7964a91)\">\n     <use style=\"fill:#ffa500;stroke:#ffa500;\" x=\"298.618213\" xlink:href=\"#C0_0_ae46a0369c\" y=\"289.288305\"/>\n    </g>\n    <g clip-path=\"url(#p74a7964a91)\">\n     <use style=\"fill:#008000;stroke:#008000;\" x=\"97.311823\" xlink:href=\"#C0_0_ae46a0369c\" y=\"206.981227\"/>\n    </g>\n    <g clip-path=\"url(#p74a7964a91)\">\n     <use style=\"fill:#ffa500;stroke:#ffa500;\" x=\"481.379139\" xlink:href=\"#C0_0_ae46a0369c\" y=\"228.752514\"/>\n    </g>\n    <g clip-path=\"url(#p74a7964a91)\">\n     <use style=\"fill:#ffa500;stroke:#ffa500;\" x=\"392.261997\" xlink:href=\"#C0_0_ae46a0369c\" y=\"438.95054\"/>\n    </g>\n    <g clip-path=\"url(#p74a7964a91)\">\n     <use style=\"fill:#008000;stroke:#008000;\" x=\"357.205606\" xlink:href=\"#C0_0_ae46a0369c\" y=\"172.674047\"/>\n    </g>\n    <g clip-path=\"url(#p74a7964a91)\">\n     <use style=\"fill:#ffa500;stroke:#ffa500;\" x=\"419.625892\" xlink:href=\"#C0_0_ae46a0369c\" y=\"370.64858\"/>\n    </g>\n    <g clip-path=\"url(#p74a7964a91)\">\n     <use style=\"fill:#008000;stroke:#008000;\" x=\"130.673251\" xlink:href=\"#C0_0_ae46a0369c\" y=\"174.684068\"/>\n    </g>\n    <g clip-path=\"url(#p74a7964a91)\">\n     <use style=\"fill:#ffa500;stroke:#ffa500;\" x=\"296.274261\" xlink:href=\"#C0_0_ae46a0369c\" y=\"301.075593\"/>\n    </g>\n    <g clip-path=\"url(#p74a7964a91)\">\n     <use style=\"fill:#008000;stroke:#008000;\" x=\"265.887473\" xlink:href=\"#C0_0_ae46a0369c\" y=\"75.823937\"/>\n    </g>\n    <g clip-path=\"url(#p74a7964a91)\">\n     <use style=\"fill:#ffa500;stroke:#ffa500;\" x=\"498.721495\" xlink:href=\"#C0_0_ae46a0369c\" y=\"361.381278\"/>\n    </g>\n    <g clip-path=\"url(#p74a7964a91)\">\n     <use style=\"fill:#ffa500;stroke:#ffa500;\" x=\"281.652983\" xlink:href=\"#C0_0_ae46a0369c\" y=\"283.408655\"/>\n    </g>\n    <g clip-path=\"url(#p74a7964a91)\">\n     <use style=\"fill:#ffa500;stroke:#ffa500;\" x=\"409.8935\" xlink:href=\"#C0_0_ae46a0369c\" y=\"329.887216\"/>\n    </g>\n    <g clip-path=\"url(#p74a7964a91)\">\n     <use style=\"fill:#008000;stroke:#008000;\" x=\"305.100331\" xlink:href=\"#C0_0_ae46a0369c\" y=\"131.917965\"/>\n    </g>\n    <g clip-path=\"url(#p74a7964a91)\">\n     <use style=\"fill:#008000;stroke:#008000;\" x=\"256.445538\" xlink:href=\"#C0_0_ae46a0369c\" y=\"55.896654\"/>\n    </g>\n    <g clip-path=\"url(#p74a7964a91)\">\n     <use style=\"fill:#ffa500;stroke:#ffa500;\" x=\"226.788171\" xlink:href=\"#C0_0_ae46a0369c\" y=\"170.715204\"/>\n    </g>\n    <g clip-path=\"url(#p74a7964a91)\">\n     <use style=\"fill:#ffa500;stroke:#ffa500;\" x=\"486.692779\" xlink:href=\"#C0_0_ae46a0369c\" y=\"268.35558\"/>\n    </g>\n    <g clip-path=\"url(#p74a7964a91)\">\n     <use style=\"fill:#ffa500;stroke:#ffa500;\" x=\"245.781815\" xlink:href=\"#C0_0_ae46a0369c\" y=\"228.753401\"/>\n    </g>\n    <g clip-path=\"url(#p74a7964a91)\">\n     <use style=\"fill:#008000;stroke:#008000;\" x=\"253.513342\" xlink:href=\"#C0_0_ae46a0369c\" y=\"104.853871\"/>\n    </g>\n    <g clip-path=\"url(#p74a7964a91)\">\n     <use style=\"fill:#008000;stroke:#008000;\" x=\"381.793703\" xlink:href=\"#C0_0_ae46a0369c\" y=\"255.526752\"/>\n    </g>\n    <g clip-path=\"url(#p74a7964a91)\">\n     <use style=\"fill:#ffa500;stroke:#ffa500;\" x=\"260.042175\" xlink:href=\"#C0_0_ae46a0369c\" y=\"260.648411\"/>\n    </g>\n    <g clip-path=\"url(#p74a7964a91)\">\n     <use style=\"fill:#008000;stroke:#008000;\" x=\"323.223515\" xlink:href=\"#C0_0_ae46a0369c\" y=\"125.902745\"/>\n    </g>\n    <g clip-path=\"url(#p74a7964a91)\">\n     <use style=\"fill:#008000;stroke:#008000;\" x=\"303.182408\" xlink:href=\"#C0_0_ae46a0369c\" y=\"117.112691\"/>\n    </g>\n    <g clip-path=\"url(#p74a7964a91)\">\n     <use style=\"fill:#ffa500;stroke:#ffa500;\" x=\"228.463027\" xlink:href=\"#C0_0_ae46a0369c\" y=\"235.116377\"/>\n    </g>\n    <g clip-path=\"url(#p74a7964a91)\">\n     <use style=\"fill:#008000;stroke:#008000;\" x=\"102.628018\" xlink:href=\"#C0_0_ae46a0369c\" y=\"272.527905\"/>\n    </g>\n    <g clip-path=\"url(#p74a7964a91)\">\n     <use style=\"fill:#ffa500;stroke:#ffa500;\" x=\"234.225683\" xlink:href=\"#C0_0_ae46a0369c\" y=\"171.072384\"/>\n    </g>\n    <g clip-path=\"url(#p74a7964a91)\">\n     <use style=\"fill:#ffa500;stroke:#ffa500;\" x=\"338.767622\" xlink:href=\"#C0_0_ae46a0369c\" y=\"369.086812\"/>\n    </g>\n    <g clip-path=\"url(#p74a7964a91)\">\n     <use style=\"fill:#ffa500;stroke:#ffa500;\" x=\"443.47527\" xlink:href=\"#C0_0_ae46a0369c\" y=\"350.864057\"/>\n    </g>\n    <g clip-path=\"url(#p74a7964a91)\">\n     <use style=\"fill:#008000;stroke:#008000;\" x=\"227.582807\" xlink:href=\"#C0_0_ae46a0369c\" y=\"120.646069\"/>\n    </g>\n    <g clip-path=\"url(#p74a7964a91)\">\n     <use style=\"fill:#ffa500;stroke:#ffa500;\" x=\"495.621756\" xlink:href=\"#C0_0_ae46a0369c\" y=\"408.88582\"/>\n    </g>\n   </g>\n   <g id=\"patch_3\">\n    <path d=\"M 54.095531 458.717812 \nL 54.095531 23.837812 \n\" style=\"fill:none;stroke:#cccccc;stroke-linecap:square;stroke-linejoin:miter;stroke-width:1.25;\"/>\n   </g>\n   <g id=\"patch_4\">\n    <path d=\"M 612.095531 458.717812 \nL 612.095531 23.837812 \n\" style=\"fill:none;stroke:#cccccc;stroke-linecap:square;stroke-linejoin:miter;stroke-width:1.25;\"/>\n   </g>\n   <g id=\"patch_5\">\n    <path d=\"M 54.095531 458.717812 \nL 612.095531 458.717812 \n\" style=\"fill:none;stroke:#cccccc;stroke-linecap:square;stroke-linejoin:miter;stroke-width:1.25;\"/>\n   </g>\n   <g id=\"patch_6\">\n    <path d=\"M 54.095531 23.837812 \nL 612.095531 23.837812 \n\" style=\"fill:none;stroke:#cccccc;stroke-linecap:square;stroke-linejoin:miter;stroke-width:1.25;\"/>\n   </g>\n   <g id=\"text_15\">\n    <!-- Data -->\n    <defs>\n     <path d=\"M 19.671875 64.796875 \nL 19.671875 8.109375 \nL 31.59375 8.109375 \nQ 46.6875 8.109375 53.6875 14.9375 \nQ 60.6875 21.78125 60.6875 36.53125 \nQ 60.6875 51.171875 53.6875 57.984375 \nQ 46.6875 64.796875 31.59375 64.796875 \nz\nM 9.8125 72.90625 \nL 30.078125 72.90625 \nQ 51.265625 72.90625 61.171875 64.09375 \nQ 71.09375 55.28125 71.09375 36.53125 \nQ 71.09375 17.671875 61.125 8.828125 \nQ 51.171875 0 30.078125 0 \nL 9.8125 0 \nz\n\" id=\"DejaVuSans-68\"/>\n     <path d=\"M 34.28125 27.484375 \nQ 23.390625 27.484375 19.1875 25 \nQ 14.984375 22.515625 14.984375 16.5 \nQ 14.984375 11.71875 18.140625 8.90625 \nQ 21.296875 6.109375 26.703125 6.109375 \nQ 34.1875 6.109375 38.703125 11.40625 \nQ 43.21875 16.703125 43.21875 25.484375 \nL 43.21875 27.484375 \nz\nM 52.203125 31.203125 \nL 52.203125 0 \nL 43.21875 0 \nL 43.21875 8.296875 \nQ 40.140625 3.328125 35.546875 0.953125 \nQ 30.953125 -1.421875 24.3125 -1.421875 \nQ 15.921875 -1.421875 10.953125 3.296875 \nQ 6 8.015625 6 15.921875 \nQ 6 25.140625 12.171875 29.828125 \nQ 18.359375 34.515625 30.609375 34.515625 \nL 43.21875 34.515625 \nL 43.21875 35.40625 \nQ 43.21875 41.609375 39.140625 45 \nQ 35.0625 48.390625 27.6875 48.390625 \nQ 23 48.390625 18.546875 47.265625 \nQ 14.109375 46.140625 10.015625 43.890625 \nL 10.015625 52.203125 \nQ 14.9375 54.109375 19.578125 55.046875 \nQ 24.21875 56 28.609375 56 \nQ 40.484375 56 46.34375 49.84375 \nQ 52.203125 43.703125 52.203125 31.203125 \nz\n\" id=\"DejaVuSans-97\"/>\n     <path d=\"M 18.3125 70.21875 \nL 18.3125 54.6875 \nL 36.8125 54.6875 \nL 36.8125 47.703125 \nL 18.3125 47.703125 \nL 18.3125 18.015625 \nQ 18.3125 11.328125 20.140625 9.421875 \nQ 21.96875 7.515625 27.59375 7.515625 \nL 36.8125 7.515625 \nL 36.8125 0 \nL 27.59375 0 \nQ 17.1875 0 13.234375 3.875 \nQ 9.28125 7.765625 9.28125 18.015625 \nL 9.28125 47.703125 \nL 2.6875 47.703125 \nL 2.6875 54.6875 \nL 9.28125 54.6875 \nL 9.28125 70.21875 \nz\n\" id=\"DejaVuSans-116\"/>\n    </defs>\n    <g style=\"fill:#262626;\" transform=\"translate(316.381938 17.837812)scale(0.14 -0.14)\">\n     <use xlink:href=\"#DejaVuSans-68\"/>\n     <use x=\"77.001953\" xlink:href=\"#DejaVuSans-97\"/>\n     <use x=\"138.28125\" xlink:href=\"#DejaVuSans-116\"/>\n     <use x=\"177.490234\" xlink:href=\"#DejaVuSans-97\"/>\n    </g>\n   </g>\n  </g>\n </g>\n <defs>\n  <clipPath id=\"p74a7964a91\">\n   <rect height=\"434.88\" width=\"558\" x=\"54.095531\" y=\"23.837812\"/>\n  </clipPath>\n </defs>\n</svg>\n",
      "image/png": "[encoded data removed]"
     },
     "metadata": {
      "needs_background": "light"
     }
    }
   ],
   "source": [
    "plt.figure(figsize=(10, 8))\n",
    "plt.title(\"Data\", fontsize=14)\n",
    "colors = list(map(lambda x: \"green\" if x ==0 else \"orange\", y))\n",
    "plt.scatter(X[:, 0], X[:, 1], c=colors)\n",
    "plt.show()"
   ],
   "metadata": {
    "collapsed": false,
    "pycharm": {
     "name": "#%%\n"
    }
   }
  },
  {
   "cell_type": "markdown",
   "source": [
    "### Model\n",
    "\n",
    "Let's define our model in PyTorch-style. But don't forget to implement `parameters()` method."
   ],
   "metadata": {
    "collapsed": false
   }
  },
  {
   "cell_type": "code",
   "execution_count": 25,
   "outputs": [],
   "source": [
    "class SimpleModel(Module):\n",
    "    def __init__(self):\n",
    "        # Create your own network!\n",
    "        super(SimpleModel, self).__init__()\n",
    "        out_features=3\n",
    "        in_features=3\n",
    "        self.linear1 = Linear(in_features=2, out_features=3)\n",
    "        self.relu1 = ReLU()\n",
    "        self.linear2 = Linear(in_features=3, out_features=4)\n",
    "        self.relu2 = ReLU()\n",
    "        #self.relu = ReLU()\n",
    "\n",
    "    def forward(self, inp):\n",
    "        #out = Linear(3,3)\n",
    "        #out = ReLU(out)\n",
    "        #return out\n",
    "        out = self.linear1.forward(inp)\n",
    "        out = self.relu1.forward(out)\n",
    "        out = self.linear2.forward(out)\n",
    "        out = self.relu2.forward(out)\n",
    "        #print(out)\n",
    "        return out\n",
    "\n",
    "    def parameters(self):\n",
    "        parameters = []\n",
    "        parameters.append(self.linear1.parameters())\n",
    "        parameters.append(self.linear2.parameters())\n",
    "        return parameters"
   ],
   "metadata": {
    "collapsed": false,
    "pycharm": {
     "name": "#%%\n"
    }
   }
  },
  {
   "cell_type": "code",
   "execution_count": 26,
   "metadata": {
    "tags": []
   },
   "outputs": [
    {
     "output_type": "execute_result",
     "data": {
      "text/plain": "[{'weight': array([[ 0.85441745, -0.73822376],\n         [ 1.14850503,  0.39958397],\n         [ 0.4813858 , -0.60257602]]),\n  'bias': array([-0.06102737,  0.12075919, -0.23643342])},\n {'weight': array([[ 1.09311658,  1.21018741, -1.11696209],\n         [-0.02358611, -1.27195683, -0.04448916],\n         [ 0.10892931, -0.19421923, -0.32824959],\n         [ 0.80311811, -1.4107252 , -0.23697985]]),\n  'bias': array([-0.77804919,  0.18498594, -0.1921859 , -0.20675477])}]"
     },
     "metadata": {},
     "execution_count": 26
    }
   ],
   "source": [
    "inp = np.random.rand(10, 2)\n",
    "model = SimpleModel()\n",
    "model(inp)\n",
    "model.parameters()"
   ]
  },
  {
   "cell_type": "markdown",
   "source": [
    "## For loop\n",
    "\n",
    "Let's start with simple train/test loop."
   ],
   "metadata": {
    "collapsed": false
   }
  },
  {
   "cell_type": "code",
   "execution_count": 16,
   "outputs": [],
   "source": [
    "criterion = CrossEntropyLoss()\n",
    "model = SimpleModel()\n",
    "#optimizer = SGD(model.parameters(), lr=0.1)\n",
    "\n",
    "num_epochs = 100\n",
    "batch_size = 4\n",
    "log_period = 5\n",
    "\n",
    "for epoch in range(num_epochs):\n",
    "    current_batch = []\n",
    "    metrics = {}\n",
    "    for k, dataset in datasets.items():\n",
    "        loader_metrics = {}\n",
    "        epoch_loss = 0\n",
    "        epoch_accuracy = 0\n",
    "        for idx, data in enumerate(dataset):\n",
    "            #print(data)\n",
    "            break\n",
    "            last = idx == (len(dataset)-1)\n",
    "            current_batch.append(data)\n",
    "            if last or len(current_batch) == batch_size:\n",
    "                current_batch=[]\n",
    "                for data in dataset:\n",
    "                    #print(data)\n",
    "                    preds = model(data[\"features\"])\n",
    "                    print(preds)\n",
    "                    break\n",
    "                    #loss = criterion(preds, )\n",
    "                    #epoch_loss +="
   ],
   "metadata": {
    "collapsed": false,
    "pycharm": {
     "name": "#%%\n"
    },
    "tags": []
   }
  },
  {
   "cell_type": "markdown",
   "source": [
    "\n",
    "## General training loop - Catalyst intro - Runner¶\n",
    "\n",
    "Code above can be reused for almost all machine learning task. Let's take a look on experiment structure\n",
    "\n",
    "```\n",
    "for stage in stage:\n",
    "    for epoch in epochs:\n",
    "        for loader on loaders:\n",
    "            for batch in loader:\n",
    "                # do something\n",
    "```\n",
    "\n",
    "### Runner\n",
    "\n",
    "In most cases we only need to adapt our batch handling method. And here comes the Runner.\n",
    "\n",
    "Runner is the main part of your experiment. It runs train loop, calls callbacks (we will discusds them later) and keeps track on your model. And the only thing you need to change is _handle_batch method.\n"
   ],
   "metadata": {
    "collapsed": false
   }
  },
  {
   "cell_type": "code",
   "execution_count": null,
   "metadata": {},
   "outputs": [],
   "source": [
    "from tqdm.notebook import tqdm\n",
    "\n",
    "\n",
    "class Runner:\n",
    "    def __init__(\n",
    "        self,\n",
    "        model,\n",
    "        criterion,\n",
    "        optimizer,\n",
    "        datasets,\n",
    "        batch_size\n",
    "    ):\n",
    "        self.model = model\n",
    "        self.criterion = criterion\n",
    "        self.optimizer = optimizer\n",
    "        self.datasets = datasets\n",
    "\n",
    "        self.batch_size = batch_size\n",
    "\n",
    "        self.input = {}\n",
    "        self.output = {}\n",
    "        self.batch_metrics = {}\n",
    "        self.loader_metrcis = {}\n",
    "        self.epoch_metrics = {}\n",
    "\n",
    "    def _handle_batch(self, batch, train=True):\n",
    "        \"\"\"\n",
    "        Stores the main logic of data aggregating.\n",
    "        \"\"\"\n",
    "        loss = 0\n",
    "        correct = 0\n",
    "        for data in batch:\n",
    "            # Calculate predictions, loss and metric\n",
    "        \n",
    "        loss = loss / len(batch)\n",
    "        accuracy = correct / len(batch)\n",
    "        \n",
    "        if train:\n",
    "            # Optimize model's parameters\n",
    "\n",
    "        self.batch_metrics = {\"loss\": loss.item(), \"accuracy\": accuracy}\n",
    "\n",
    "\n",
    "    def train(self, num_epochs: int = 100, verbose=False):\n",
    "        for epoch in range(num_epochs):\n",
    "            self.epoch_metrics = {}\n",
    "            self.epoch = epoch\n",
    "            for dataset_name, dataset in self.datasets.items():\n",
    "                self.dataset_name = dataset_name\n",
    "                self.loader_metrics = {}\n",
    "                current_batch = []\n",
    "\n",
    "                if verbose:\n",
    "                    iter_ = tqdm(enumerate(dataset), total=len(dataset))\n",
    "                else:\n",
    "                    iter_ = enumerate(dataset)\n",
    "\n",
    "                for idx, data in iter_:\n",
    "                    last = idx == (len(dataset)-1)\n",
    "                    current_batch.append(data)\n",
    "\n",
    "                    if last or len(current_batch) == self.batch_size:\n",
    "                        # Handle batch\n",
    "                        current_batch = []\n",
    "\n",
    "                        for k, v in self.batch_metrics.items():\n",
    "                            if k not in self.loader_metrics:\n",
    "                                self.loader_metrics[k] = []\n",
    "                            self.loader_metrics[k].append(v)\n",
    "                \n",
    "                for metric, value in self.loader_metrics.items():\n",
    "                    value = np.mean(self.loader_metrics[metric])\n",
    "                    self.loader_metrics[metric] = value\n",
    "                    print(f\"epoch {epoch}: {dataset_name} {metric} - {value}\")"
   ]
  },
  {
   "source": [
    "### Run training"
   ],
   "cell_type": "markdown",
   "metadata": {}
  },
  {
   "cell_type": "code",
   "execution_count": null,
   "metadata": {},
   "outputs": [],
   "source": [
    "criterion = CrossEntropyLoss()\n",
    "model = SimpleModel()\n",
    "optimizer = SGD(model.parameters(), lr=0.1)\n",
    "runner = Runner(\n",
    "    model=model,\n",
    "    criterion=criterion,\n",
    "    optimizer=optimizer,\n",
    "    datasets=datasets,\n",
    "    batch_size=3,\n",
    ")\n",
    "runner.train(10)"
   ]
  },
  {
   "source": [
    "### Visualization"
   ],
   "cell_type": "markdown",
   "metadata": {}
  },
  {
   "cell_type": "code",
   "execution_count": null,
   "metadata": {},
   "outputs": [],
   "source": [
    "h = 0.25\n",
    "x_min, x_max = X[:, 0].min() - 1, X[:, 0].max() + 1\n",
    "y_min, y_max = X[:, 1].min() - 1, X[:, 1].max() + 1\n",
    "xx, yy = np.meshgrid(np.arange(x_min, x_max, h),\n",
    "                     np.arange(y_min, y_max, h))\n",
    "Xmesh = np.c_[xx.ravel(), yy.ravel()]\n",
    "inputs = [list(map(Value, xrow)) for xrow in Xmesh]\n",
    "scores = list(map(model, inputs))\n",
    "Z = np.array([s[1].exp().data/(s[0].exp()+s[1].exp()).data for s in scores])\n",
    "Z = Z.reshape(xx.shape)\n",
    "\n",
    "fig = plt.figure(figsize=(10, 8))\n",
    "plt.title(\"Decision boundary\", fontsize=14)\n",
    "plt.contourf(xx, yy, Z, cmap=plt.cm.Spectral, alpha=0.6)\n",
    "plt.scatter(X[:, 0], X[:, 1], c=y, s=40, cmap=plt.cm.Spectral)\n",
    "plt.xlim(xx.min(), xx.max())\n",
    "plt.ylim(yy.min(), yy.max())\n",
    "plt.show()"
   ]
  },
  {
   "cell_type": "markdown",
   "source": [
    "\n",
    "## General training loop - Catalyst intro - Callbacks\n",
    "\n",
    "But could we make it even more general? Should we rewrite loss.backward or compute accuracy again and again? Do we really need it?\n",
    "\n",
    "I don't think so, I think, we could introduce another general abstaction for typical train-loop logic. Let's introduce Callbacks!\n",
    "\n",
    "### Callbacks\n",
    "\n",
    "In catalyst callbacks have significant impact in everything you do.\n",
    "Let's try to implement some of them.\n",
    "\n",
    "There are a list of moments, where callbacks can be integrated. We will need only three of them.\n",
    "```\n",
    "on_stage_start\n",
    "    on_epoch_start\n",
    "        on_loader_start\n",
    "            on_batch_start\n",
    "------->    on_batch_end\n",
    "----->  on_loader_end\n",
    "--> on_epoch_end\n",
    "on_stage_end\n",
    "```"
   ],
   "metadata": {
    "collapsed": false
   }
  },
  {
   "cell_type": "code",
   "execution_count": null,
   "outputs": [],
   "source": [
    "class Callback:\n",
    "    def on_stage_start(self):\n",
    "        pass\n",
    "\n",
    "    def on_stage_end(self):\n",
    "        pass\n",
    "\n",
    "    def on_epoch_start(self):\n",
    "        pass\n",
    "\n",
    "    def on_epoch_end(self, runner):\n",
    "        pass\n",
    "\n",
    "    def on_loader_start(self):\n",
    "        pass\n",
    "\n",
    "    def on_loader_end(self, runner):\n",
    "        pass\n",
    "\n",
    "    def on_batch_start(self):\n",
    "        pass\n",
    "\n",
    "    def on_batch_end(self, runner):\n",
    "        pass\n",
    "\n",
    "\n",
    "class LossCallback(Callback):\n",
    "    \"\"\"\n",
    "    Aggregating loss value.\n",
    "    \"\"\"\n",
    "    def __init__(self):\n",
    "        self.cum_loss = 0\n",
    "        self.num_batches = 0\n",
    "\n",
    "    def on_batch_end(self, runner):\n",
    "        \"\"\"\n",
    "        On batch end action.\n",
    "\n",
    "        Accumulates loss and num batches.\n",
    "\n",
    "        Args:\n",
    "            output: dict with loss and other model's outputs.\n",
    "        \"\"\"\n",
    "        self.cum_loss += runner.output[\"loss\"]\n",
    "        self.num_batches += 1\n",
    "\n",
    "    def on_loader_end(self, runner):\n",
    "        \"\"\"\n",
    "        On loader end action.\n",
    "\n",
    "        Args:\n",
    "            epoch_metrics: dict with epoch metrics\n",
    "\n",
    "        Returns:\n",
    "            loss over the loader.\n",
    "        \"\"\"\n",
    "        runner.epoch_metrics[\"loss\"] = self.cum_loss / self.num_batches\n",
    "        self.cum_loss = 0\n",
    "        self.num_batches = 0\n",
    "\n",
    "\n",
    "class AccuracyCallback(Callback):\n",
    "    \"\"\"\n",
    "    Aggregating accuracy value.\n",
    "    \"\"\"\n",
    "    def __init__(self):\n",
    "        self.correct = 0\n",
    "\n",
    "    def on_batch_end(self, runner):\n",
    "        \"\"\"\n",
    "        On batch end action\n",
    "\n",
    "        Accumulates number of correct predictions.\n",
    "\n",
    "        Args:\n",
    "            output: dict with number of the correct predictions\n",
    "        \"\"\"\n",
    "        self.correct +=  # Calculate Accuracy\n",
    "\n",
    "    def on_loader_end(self, runner):\n",
    "        \"\"\"\n",
    "        On loader end action.\n",
    "\n",
    "        Args:\n",
    "            epoch_metrics: dict with epoch metrics\n",
    "\n",
    "        Returns:\n",
    "            accuracy value over the loader.\n",
    "        \"\"\"\n",
    "        runner.epoch_metrics[\"accuracy\"] = # Sum up metrics\n",
    "        self.correct=0\n",
    "\n",
    "\n",
    "class LoggerCallback(Callback):\n",
    "    \"\"\"\n",
    "    Log metrics to output.\n",
    "    \"\"\"\n",
    "    def __init__(self, log_period):\n",
    "        self.log_period = log_period\n",
    "\n",
    "    def on_epoch_end(self, runner):\n",
    "        \"\"\"\n",
    "        On epoch end action.\n",
    "\n",
    "        Prints all epoch metrics if log_period is suitable.\n",
    "\n",
    "        Args:\n",
    "            epoch_metrics: dict with epoch metrics\n",
    "            epoch: current epoch\n",
    "        \"\"\"\n",
    "        if runner.epoch % self.log_period == 0:\n",
    "            log_string = f\"Epoch: {runner.epoch}\\n\"\n",
    "            for metric, value in runner.epoch_metrics.items():\n",
    "                log_string += # Logging all metrics\n",
    "            print(log_string)\n",
    "\n",
    "\n",
    "class OptimizerCallback(Callback):\n",
    "    def on_batch_start(self, runner):\n",
    "        if runner.dataset_name == \"train\":\n",
    "            # Reset gradients\n",
    "\n",
    "    def on_batch_end(self, runner):\n",
    "        loss = 0\n",
    "        for data, outp in zip(runner.input, runner.output):\n",
    "            current_loss = runner.criterion(outp, data[\"targets\"])\n",
    "            loss += current_loss\n",
    "        \n",
    "        loss = loss / len(runner.input)\n",
    "        \n",
    "        if runner.dataset_name == \"train\":\n",
    "            # Optimize model's parameters"
   ],
   "metadata": {
    "collapsed": false,
    "pycharm": {
     "name": "#%%\n"
    }
   }
  },
  {
   "cell_type": "code",
   "execution_count": null,
   "outputs": [],
   "source": [
    "from tqdm.notebook import tqdm\n",
    "\n",
    "\n",
    "class Runner:\n",
    "    def __init__(\n",
    "        self,\n",
    "        model,\n",
    "        criterion,\n",
    "        optimizer,\n",
    "        datasets,\n",
    "        batch_size,\n",
    "        callbacks,\n",
    "    ):\n",
    "        self.model = model\n",
    "        self.criterion = criterion\n",
    "        self.optimizer = optimizer\n",
    "        self.datasets = datasets\n",
    "\n",
    "        self.batch_size = batch_size\n",
    "        self.callbacks = callbacks\n",
    "        \n",
    "        self.input = {}\n",
    "        self.output = {}\n",
    "        self.batch_metrics = {}\n",
    "        self.loader_metrcis = {}\n",
    "        self.epoch_metrics = {}\n",
    "\n",
    "    def _handle_batch(self, batch):\n",
    "        \"\"\"\n",
    "        Stores the main logic of data aggregating.\n",
    "        \"\"\"\n",
    "        output = []\n",
    "        for data in batch:\n",
    "            # Calculate predictions\n",
    "        self.input = batch\n",
    "        self.output = output\n",
    "\n",
    "\n",
    "    def train(self, num_epochs: int = 100, verbose=False):\n",
    "        for epoch in range(num_epochs):\n",
    "            self.epoch_metrics = {}\n",
    "            self.epoch = epoch\n",
    "            for dataset_name, dataset in self.datasets.items():\n",
    "                self.dataset_name = dataset_name\n",
    "                self.loader_metrics = {}\n",
    "                current_batch = []\n",
    "\n",
    "                if verbose:\n",
    "                    iter_ = tqdm(enumerate(dataset), total=len(dataset))\n",
    "                else:\n",
    "                    iter_ = enumerate(dataset)\n",
    "\n",
    "                for idx, data in iter_:\n",
    "                    last = idx == (len(dataset)-1)\n",
    "                    current_batch.append(data)\n",
    "\n",
    "                    if last or len(current_batch) == self.batch_size:\n",
    "                        for clb in self.callbacks.values():\n",
    "                            clb.on_batch_start(self)\n",
    "\n",
    "                        # Handle batch\n",
    "                        current_batch = []\n",
    "\n",
    "                        for clb in self.callbacks.values():\n",
    "                            clb.on_batch_end(self)\n",
    "\n",
    "                for clb in self.callbacks.values():\n",
    "                    clb.on_loader_end(self)"
   ],
   "metadata": {
    "collapsed": false,
    "pycharm": {
     "name": "#%%\n"
    }
   }
  },
  {
   "cell_type": "markdown",
   "source": [
    "### Run training"
   ],
   "metadata": {
    "collapsed": false
   }
  },
  {
   "cell_type": "code",
   "execution_count": null,
   "outputs": [],
   "source": [
    "criterion = CrossEntropyLoss()\n",
    "model = SimpleModel()\n",
    "optimizer = SGD(model.parameters(), lr=0.1)\n",
    "runner = Runner(\n",
    "    model=model,\n",
    "    criterion=criterion,\n",
    "    optimizer=optimizer,\n",
    "    datasets=datasets,\n",
    "    batch_size=3,\n",
    "    callbacks={\n",
    "        \"loss\": LossCallback(),\n",
    "        \"accuracy\": AccuracyCallback(),\n",
    "        \"logger\": LoggerCallback(log_period=5),\n",
    "        \"optimizer\": OptimizerCallback(),\n",
    "    }\n",
    ")\n",
    "runner.train(50)"
   ],
   "metadata": {
    "collapsed": false,
    "pycharm": {
     "name": "#%%\n"
    }
   }
  },
  {
   "cell_type": "markdown",
   "source": [
    "### Visualization"
   ],
   "metadata": {
    "collapsed": false
   }
  },
  {
   "cell_type": "code",
   "execution_count": null,
   "outputs": [],
   "source": [
    "h = 0.25\n",
    "x_min, x_max = X[:, 0].min() - 1, X[:, 0].max() + 1\n",
    "y_min, y_max = X[:, 1].min() - 1, X[:, 1].max() + 1\n",
    "xx, yy = np.meshgrid(np.arange(x_min, x_max, h),\n",
    "                     np.arange(y_min, y_max, h))\n",
    "Xmesh = np.c_[xx.ravel(), yy.ravel()]\n",
    "inputs = [list(map(Value, xrow)) for xrow in Xmesh]\n",
    "scores = list(map(model, inputs))\n",
    "Z = np.array([s[1].exp().data/(s[0].exp()+s[1].exp()).data for s in scores])\n",
    "Z = Z.reshape(xx.shape)\n",
    "\n",
    "fig = plt.figure(figsize=(10, 8))\n",
    "plt.title(\"Decision boundary\", fontsize=14)\n",
    "plt.contourf(xx, yy, Z, cmap=plt.cm.Spectral, alpha=0.6)\n",
    "plt.scatter(X[:, 0], X[:, 1], c=y, s=40, cmap=plt.cm.Spectral)\n",
    "plt.xlim(xx.min(), xx.max())\n",
    "plt.ylim(yy.min(), yy.max())\n",
    "plt.show()\n"
   ],
   "metadata": {
    "collapsed": false,
    "pycharm": {
     "name": "#%%\n"
    }
   }
  },
  {
   "cell_type": "markdown",
   "source": [
    "## MNIST\n",
    "\n",
    "Try to train model on MNIST task!"
   ],
   "metadata": {
    "collapsed": false
   }
  },
  {
   "cell_type": "code",
   "execution_count": null,
   "outputs": [],
   "source": [
    "import mnist\n",
    "X_train, y_train, X_val, y_val, X_test, y_test = mnist.load_dataset()"
   ],
   "metadata": {
    "collapsed": false,
    "pycharm": {
     "name": "#%%\n"
    }
   }
  },
  {
   "cell_type": "code",
   "execution_count": null,
   "outputs": [],
   "source": [
    "class MNISTDataset:\n",
    "    def __init__(self, x, y):\n",
    "        self.x = x\n",
    "        self.y = y\n",
    "\n",
    "    def __getitem__(self, idx):\n",
    "        return {\"features\": ..., \"targets\": ...}\n",
    "\n",
    "    def __len__(self):\n",
    "        return len(self.y)\n",
    "\n",
    "# Python is slow, that's why we use only small group of object\n",
    "datasets = {\n",
    "    \"train\": MNISTDataset(X_train[:2000], y_train[:2000]),\n",
    "    \"valid\": MNISTDataset(X_val[:200], y_val[:200])\n",
    "} "
   ],
   "metadata": {
    "collapsed": false,
    "pycharm": {
     "name": "#%%\n"
    }
   }
  },
  {
   "cell_type": "code",
   "execution_count": null,
   "outputs": [],
   "source": [
    "class MnistModel(Module):\n",
    "    def __init__(\n",
    "        self,\n",
    "        inp_shape=28*28,\n",
    "        out_shape=10,\n",
    "        hidden_shapes=[10, 10]\n",
    "    ):\n",
    "        # Create your model!\n",
    "\n",
    "    def forward(self, inp):\n",
    "        return ...\n",
    "\n",
    "    def parameters(self):\n",
    "        parameters = [] # Don't forget about parameters!\n",
    "        return parameters"
   ],
   "metadata": {
    "collapsed": false,
    "pycharm": {
     "name": "#%%\n"
    }
   }
  },
  {
   "cell_type": "code",
   "execution_count": null,
   "outputs": [],
   "source": [
    "criterion = CrossEntropyLoss()\n",
    "model = MnistModel()\n",
    "optimizer = SGD(model.parameters(), lr=0.1)\n",
    "runner = Runner(\n",
    "    model=model,\n",
    "    criterion=criterion,\n",
    "    optimizer=optimizer,\n",
    "    datasets=datasets,\n",
    "    batch_size=16,\n",
    "    callbacks={\n",
    "        \"loss\": LossCallback(),\n",
    "        \"accuracy\": AccuracyCallback(),\n",
    "        \"logger\": LoggerCallback(log_period=1),\n",
    "        \"optimizer\": OptimizerCallback(),\n",
    "    }\n",
    ")\n",
    "runner.train(5, verbose=True)"
   ],
   "metadata": {
    "collapsed": false,
    "pycharm": {
     "name": "#%%\n"
    }
   }
  },
  {
   "cell_type": "code",
   "execution_count": null,
   "outputs": [],
   "source": [],
   "metadata": {
    "collapsed": false,
    "pycharm": {
     "name": "#%%\n"
    }
   }
  }
 ],
 "metadata": {
  "kernelspec": {
   "display_name": "Python 3",
   "language": "python",
   "name": "python3"
  },
  "language_info": {
   "codemirror_mode": {
    "name": "ipython",
    "version": 2
   },
   "file_extension": ".py",
   "mimetype": "text/x-python",
   "name": "python",
   "nbconvert_exporter": "python",
   "pygments_lexer": "ipython2",
   "version": "3.8.2-final"
  }
 },
 "nbformat": 4,
 "nbformat_minor": 0
}